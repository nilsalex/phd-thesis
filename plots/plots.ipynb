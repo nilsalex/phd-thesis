{
 "cells": [
  {
   "cell_type": "code",
   "execution_count": 1,
   "id": "1ca4b9a2",
   "metadata": {},
   "outputs": [],
   "source": [
    "import numpy as np\n",
    "import matplotlib\n",
    "\n",
    "matplotlib.use(\"pgf\")\n",
    "matplotlib.rcParams.update({\n",
    "    \"pgf.texsystem\": \"lualatex\",\n",
    "    'font.family': 'serif',\n",
    "    'text.usetex': True,\n",
    "    'pgf.rcfonts': False,\n",
    "})\n",
    "\n",
    "import matplotlib.pyplot as plt\n",
    "import matplotlib.ticker as ticker\n",
    "from scipy.integrate import solve_ivp\n",
    "from scipy.optimize import root_scalar"
   ]
  },
  {
   "cell_type": "code",
   "execution_count": 2,
   "id": "be748525",
   "metadata": {},
   "outputs": [],
   "source": [
    "def f(a,b,r):\n",
    "    return a * (1 + b*r) * np.exp(-b*r)"
   ]
  },
  {
   "cell_type": "code",
   "execution_count": 3,
   "id": "4d03be47",
   "metadata": {},
   "outputs": [],
   "source": [
    "def g(a,b,r):\n",
    "    return (1 + a * (1 + b*r) * np.exp(-b*r))**3 / (1 + a * (1 + b*r + (b*r)**2) * np.exp(-b*r))"
   ]
  },
  {
   "cell_type": "code",
   "execution_count": 4,
   "id": "e18d99ab",
   "metadata": {},
   "outputs": [],
   "source": [
    "def T(a,b,r):\n",
    "    return 2*np.pi * np.sqrt(np.power(r,3) / (1+f(a,b,r)))"
   ]
  },
  {
   "cell_type": "code",
   "execution_count": 5,
   "id": "13803ac1",
   "metadata": {},
   "outputs": [],
   "source": [
    "def solve_radius(tmin, tmax, r0, a, b):\n",
    "    return solve_ivp(lambda t,y: - g(a,b,y)/y**3, [tmin,tmax], [r0], dense_output=True)"
   ]
  },
  {
   "cell_type": "code",
   "execution_count": 6,
   "id": "c1f13d25",
   "metadata": {},
   "outputs": [],
   "source": [
    "def invert_period(a,b,p):\n",
    "    guess = np.power(p/(2*np.pi),2/3)\n",
    "    sol = root_scalar(lambda x: T(a,b,x) - p, bracket=[guess*0.5, guess*1.5])\n",
    "    return sol.root"
   ]
  },
  {
   "cell_type": "code",
   "execution_count": 7,
   "id": "653a6b2a",
   "metadata": {},
   "outputs": [],
   "source": [
    "def period_plot(a,b):\n",
    "    p0 = 30\n",
    "    r0 = invert_period(a,b,p0)\n",
    "    tmin, tmax = 0, 14\n",
    "\n",
    "    sol = solve_radius(tmin,tmax,r0,a,b)\n",
    "    t = np.linspace(tmin,tmax,100000)\n",
    "\n",
    "    r1 = sol.sol(t)[0]\n",
    "    r2 = np.power((r0**4 - 4*t),1/4)\n",
    "\n",
    "    p0 = T(a,b,r0)\n",
    "    p1 = np.vectorize(T)(a,b,r1) / p0\n",
    "    p2 = 2*np.pi * np.power(((p0/(2*np.pi))**(8/3) - 4*t),3/8) / p0\n",
    "    \n",
    "    return t, p1, p2\n",
    "\n",
    "def plot(params):\n",
    "    styles = [\"--\",\"-.\",\":\",\"--\"]\n",
    "    \n",
    "    plots = [period_plot(a,b) for (a,b) in params]\n",
    "    \n",
    "    golden = (5**.5-1)/2\n",
    "    width_pt = 448\n",
    "    scale = 0.9\n",
    "    dpi = 72.7\n",
    "    width = scale*width_pt / dpi\n",
    "    height = golden * width\n",
    "    \n",
    "    fig, ax = plt.subplots(1,figsize=(width,height))\n",
    "\n",
    "    ax.plot(plots[0][0], plots[0][2], \"-\", label=\"metric\")\n",
    "\n",
    "    for i in range(len(params)):\n",
    "        ax.plot(plots[i][0], plots[i][1], styles[i], label=f\"area metric [$\\\\beta = {params[i][0]}$, $\\\\mu = {params[i][1]}$]\")\n",
    " \n",
    "    ax.xaxis.set_major_locator(ticker.MultipleLocator(2))\n",
    "    ax.yaxis.set_major_locator(ticker.MultipleLocator(0.1))\n",
    "        \n",
    "    ax.set_xlabel(\"coordinate time $t$\")\n",
    "    ax.set_ylabel(r\"orbital period $P / P_0$\")\n",
    "        \n",
    "    ax.legend(loc=\"lower left\")\n",
    "    \n",
    "    return fig, ax\n",
    "\n",
    "fig1, ax1 = plot([(0.2,1), (1,1), (4,1)])\n",
    "ax1.set_title(\"Spin-up of the binary star for different constants $\\\\beta$\")\n",
    "fig1.savefig(\"plot1.pgf\")\n",
    "\n",
    "fig2, ax2 = plot([(1,1), (1,2), (1,3)])\n",
    "ax2.set_title(\"Spin-up of the binary star for different constants $\\\\mu$\")\n",
    "fig2.savefig(\"plot2.pgf\")"
   ]
  },
  {
   "cell_type": "code",
   "execution_count": null,
   "id": "faad12ac",
   "metadata": {},
   "outputs": [],
   "source": []
  }
 ],
 "metadata": {
  "kernelspec": {
   "display_name": ".venv",
   "language": "python",
   "name": ".venv"
  },
  "language_info": {
   "codemirror_mode": {
    "name": "ipython",
    "version": 3
   },
   "file_extension": ".py",
   "mimetype": "text/x-python",
   "name": "python",
   "nbconvert_exporter": "python",
   "pygments_lexer": "ipython3",
   "version": "3.9.7"
  }
 },
 "nbformat": 4,
 "nbformat_minor": 5
}
