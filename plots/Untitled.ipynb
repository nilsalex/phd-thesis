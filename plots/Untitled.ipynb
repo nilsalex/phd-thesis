{
 "cells": [
  {
   "cell_type": "code",
   "execution_count": 25,
   "id": "1ca4b9a2",
   "metadata": {},
   "outputs": [],
   "source": [
    "import numpy as np\n",
    "import matplotlib.pyplot as plt"
   ]
  },
  {
   "cell_type": "code",
   "execution_count": 15,
   "id": "be748525",
   "metadata": {},
   "outputs": [],
   "source": [
    "def f(a,b,r):\n",
    "    return a * (1 + b*r) * np.exp(-b*r)"
   ]
  },
  {
   "cell_type": "code",
   "execution_count": 16,
   "id": "d598f5a7",
   "metadata": {},
   "outputs": [],
   "source": [
    "def f1(a,b,r):\n",
    "    return - a * b**2 * r * np.exp(-b*r)"
   ]
  },
  {
   "cell_type": "code",
   "execution_count": 17,
   "id": "4d03be47",
   "metadata": {},
   "outputs": [],
   "source": [
    "def g(a,b,r):\n",
    "    return (1 + f(a,b,r))**3 / (1 + f(a,b,r) - r * f1(a,b,r))"
   ]
  },
  {
   "cell_type": "code",
   "execution_count": 28,
   "id": "4dfd042e",
   "metadata": {},
   "outputs": [],
   "source": [
    "a = np.linspace(0,10,100)"
   ]
  },
  {
   "cell_type": "code",
   "execution_count": 29,
   "id": "70f98572",
   "metadata": {},
   "outputs": [
    {
     "data": {
      "text/plain": [
       "[<matplotlib.lines.Line2D at 0x7fab8ad0b160>]"
      ]
     },
     "execution_count": 29,
     "metadata": {},
     "output_type": "execute_result"
    },
    {
     "data": {
      "image/png": "[encoded data removed]",
      "text/plain": [
       "<Figure size 432x288 with 1 Axes>"
      ]
     },
     "metadata": {
      "needs_background": "light"
     },
     "output_type": "display_data"
    }
   ],
   "source": [
    "plt.plot(a, g(1,1,a))"
   ]
  },
  {
   "cell_type": "code",
   "execution_count": null,
   "id": "13803ac1",
   "metadata": {},
   "outputs": [],
   "source": []
  }
 ],
 "metadata": {
  "kernelspec": {
   "display_name": ".venv",
   "language": "python",
   "name": ".venv"
  },
  "language_info": {
   "codemirror_mode": {
    "name": "ipython",
    "version": 3
   },
   "file_extension": ".py",
   "mimetype": "text/x-python",
   "name": "python",
   "nbconvert_exporter": "python",
   "pygments_lexer": "ipython3",
   "version": "3.9.6"
  }
 },
 "nbformat": 4,
 "nbformat_minor": 5
}
